{
 "cells": [
  {
   "cell_type": "markdown",
   "metadata": {},
   "source": [
    "# Process railways from OSM\n",
    "\n",
    "- current network (filter out disused/abandoned/proposed/under construction)\n",
    "- connected network (link nodes and split edges)"
   ]
  },
  {
   "cell_type": "code",
   "execution_count": null,
   "metadata": {},
   "outputs": [],
   "source": [
    "import os\n",
    "from glob import glob\n",
    "\n",
    "import fiona\n",
    "import geopandas as gpd\n",
    "gpd._compat.USE_PYGEOS = False\n",
    "import snkit"
   ]
  },
  {
   "cell_type": "markdown",
   "metadata": {},
   "source": [
    "## Current network"
   ]
  },
  {
   "cell_type": "code",
   "execution_count": null,
   "metadata": {},
   "outputs": [],
   "source": [
    "files = glob('../incoming_data/OpenStreetMap/railways/*rail.gpkg')"
   ]
  },
  {
   "cell_type": "code",
   "execution_count": null,
   "metadata": {},
   "outputs": [],
   "source": [
    "def process_points(df):\n",
    "    print(\"Railway\", df.railway.unique())\n",
    "\n",
    "    df = df[ \n",
    "        df['railway'].isin(('stop', 'station', 'halt', 'yes')) \n",
    "    ]\n",
    "\n",
    "    return df[['osm_id', 'name', 'railway', 'geometry']]"
   ]
  },
  {
   "cell_type": "code",
   "execution_count": null,
   "metadata": {},
   "outputs": [],
   "source": [
    "def process_lines(df):\n",
    "    print(\"Railway\", df.railway.unique())\n",
    "\n",
    "\n",
    "    df = df[ \n",
    "        ~df['railway'].isin(('abandoned', 'disused', 'construction', 'proposed', 'tram', 'funicular')) \n",
    "    ]\n",
    "\n",
    "    return df[['osm_id', 'name', 'railway', 'bridge', 'geometry']]"
   ]
  },
  {
   "cell_type": "code",
   "execution_count": null,
   "metadata": {},
   "outputs": [],
   "source": [
    "def process_polygons(df):\n",
    "    print(\"Railway\", df.railway.unique())\n",
    "    print(\"Disused\", df.disused.unique())\n",
    "    \n",
    "\n",
    "    df = df[\n",
    "        ~df['railway'].isin(('construction', 'proposed'))\n",
    "        & ~df['disused'].isin(('yes',))\n",
    "    ]\n",
    "\n",
    "    return df[['osm_id', 'osm_way_id', 'name', 'railway', 'geometry']]"
   ]
  },
  {
   "cell_type": "code",
   "execution_count": null,
   "metadata": {},
   "outputs": [],
   "source": [
    "def polys_to_points(df):\n",
    "    df.geometry = df.geometry.centroid\n",
    "    return df"
   ]
  },
  {
   "cell_type": "code",
   "execution_count": null,
   "metadata": {},
   "outputs": [],
   "source": [
    "for fname in files:\n",
    "    print(f\"\\n{fname}\")\n",
    "    layers = fiona.listlayers(fname)\n",
    "    out_fname = fname.replace('.gpkg', '_filtered.gpkg')\n",
    "    try:\n",
    "        os.remove(out_fname)\n",
    "    except FileNotFoundError:\n",
    "        pass\n",
    "    \n",
    "    if 'points' in layers:\n",
    "        df = process_points(gpd.read_file(fname, layer='points'))\n",
    "        if not df.empty:\n",
    "            df.to_file(out_fname, layer='points', driver=\"GPKG\")\n",
    "    \n",
    "    if 'lines' in layers:\n",
    "        df = process_lines(gpd.read_file(fname, layer='lines'))\n",
    "        if not df.empty:\n",
    "            df.to_file(out_fname, layer='lines', driver=\"GPKG\")\n",
    "        \n",
    "    if 'multipolygons' in layers:\n",
    "        df = process_polygons(gpd.read_file(fname, layer='multipolygons'))\n",
    "        if not df.empty:\n",
    "            df.to_file(out_fname, layer='multipolygons', driver=\"GPKG\")\n",
    "            \n",
    "            df = polys_to_points(df)\n",
    "            df.to_file(out_fname, layer='centroids', driver=\"GPKG\")"
   ]
  },
  {
   "cell_type": "markdown",
   "metadata": {},
   "source": [
    "## Connected network"
   ]
  },
  {
   "cell_type": "code",
   "execution_count": null,
   "metadata": {},
   "outputs": [],
   "source": [
    "files = glob('../incoming_data/OpenStreetMap/railways/*rail_filtered.gpkg')"
   ]
  },
  {
   "cell_type": "code",
   "execution_count": null,
   "metadata": {},
   "outputs": [],
   "source": [
    "def read_nodes(fname):\n",
    "    nodes = gpd.read_file(fname, layer='points')\n",
    "    centroids = gpd.read_file(fname, layer='centroids')\n",
    "    def get_id(row):\n",
    "        if row.osm_id is None:\n",
    "            return row.osm_way_id\n",
    "        else:\n",
    "            return row.osm_id\n",
    "    centroids.osm_id = centroids.apply(get_id, axis=1)\n",
    "    centroids = centroids.drop('osm_way_id', axis=1)\n",
    "    nodes = nodes.append(centroids)\n",
    "    return nodes"
   ]
  },
  {
   "cell_type": "code",
   "execution_count": null,
   "metadata": {},
   "outputs": [],
   "source": [
    "def read_edges(fname):\n",
    "    edges = gpd.read_file(fname, layer='lines')\n",
    "    return edges"
   ]
  },
  {
   "cell_type": "code",
   "execution_count": null,
   "metadata": {},
   "outputs": [],
   "source": [
    "sorted(files)"
   ]
  },
  {
   "cell_type": "code",
   "execution_count": null,
   "metadata": {},
   "outputs": [],
   "source": [
    "country_to_code = {\n",
    "    'cambodia': 'KHM',\n",
    "    'indonesia': 'IDN',\n",
    "    'laos': 'LAO',\n",
    "    'myanmar': 'MMR',\n",
    "    'philippines': 'PHL',\n",
    "    'thailand': 'THA',\n",
    "    'vietnam': 'VNM',\n",
    "}"
   ]
  },
  {
   "cell_type": "code",
   "execution_count": null,
   "metadata": {},
   "outputs": [],
   "source": [
    "for fname in files:\n",
    "    country = os.path.basename(fname).replace('-rail_filtered.gpkg', '')\n",
    "    code = country_to_code[country]\n",
    "    print(country, code)\n",
    "    \n",
    "    out_fname = fname.replace('filtered', 'network').replace(country, code)\n",
    "    try:\n",
    "        os.remove(out_fname)\n",
    "    except FileNotFoundError:\n",
    "        pass\n",
    "    \n",
    "    nodes = read_nodes(fname)\n",
    "    edges = read_edges(fname)\n",
    "    \n",
    "    network = snkit.Network(nodes, edges)\n",
    "    network = snkit.network.snap_nodes(network)\n",
    "    network = snkit.network.split_edges_at_nodes(network)\n",
    "    network = snkit.network.add_endpoints(network)    \n",
    "    network = snkit.network.add_ids(network, edge_prefix=f\"rail_{code}\", node_prefix=f\"rail_{code}\")\n",
    "    network = snkit.network.add_topology(network, id_col='id')\n",
    "    \n",
    "    network.edges.to_file(out_fname, layer='edges', driver='GPKG')\n",
    "    network.nodes.to_file(out_fname, layer='nodes', driver='GPKG')"
   ]
  }
 ],
 "metadata": {
  "kernelspec": {
   "display_name": "Python 3",
   "language": "python",
   "name": "python3"
  },
  "language_info": {
   "codemirror_mode": {
    "name": "ipython",
    "version": 3
   },
   "file_extension": ".py",
   "mimetype": "text/x-python",
   "name": "python",
   "nbconvert_exporter": "python",
   "pygments_lexer": "ipython3",
   "version": "3.7.10"
  }
 },
 "nbformat": 4,
 "nbformat_minor": 4
}
