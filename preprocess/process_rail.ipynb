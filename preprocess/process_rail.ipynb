{
 "cells": [
  {
   "cell_type": "markdown",
   "metadata": {},
   "source": [
    "# Process railways from OSM"
   ]
  },
  {
   "cell_type": "code",
   "execution_count": null,
   "metadata": {},
   "outputs": [],
   "source": [
    "import os\n",
    "from glob import glob\n",
    "\n",
    "import fiona\n",
    "import geopandas as gpd"
   ]
  },
  {
   "cell_type": "code",
   "execution_count": null,
   "metadata": {},
   "outputs": [],
   "source": [
    "files = glob('../incoming_data/OpenStreetMap/railways/*rail.gpkg')"
   ]
  },
  {
   "cell_type": "code",
   "execution_count": null,
   "metadata": {},
   "outputs": [],
   "source": [
    "def process_points(df):\n",
    "    print(\"Railway\", df.railway.unique())\n",
    "\n",
    "    df = df[ \n",
    "        df['railway'].isin(('stop', 'station', 'halt', 'yes')) \n",
    "    ]\n",
    "\n",
    "    return df[['osm_id', 'name', 'railway', 'geometry']]"
   ]
  },
  {
   "cell_type": "code",
   "execution_count": null,
   "metadata": {},
   "outputs": [],
   "source": [
    "def process_lines(df):\n",
    "    print(\"Railway\", df.railway.unique())\n",
    "\n",
    "\n",
    "    df = df[ \n",
    "        ~df['railway'].isin(('abandoned', 'disused', 'construction', 'proposed', 'tram', 'funicular')) \n",
    "    ]\n",
    "\n",
    "    return df[['osm_id', 'name', 'railway', 'bridge', 'geometry']]"
   ]
  },
  {
   "cell_type": "code",
   "execution_count": null,
   "metadata": {},
   "outputs": [],
   "source": [
    "def process_polygons(df):\n",
    "    print(\"Railway\", df.railway.unique())\n",
    "    print(\"Disused\", df.disused.unique())\n",
    "    \n",
    "\n",
    "    df = df[\n",
    "        ~df['railway'].isin(('construction', 'proposed'))\n",
    "        & ~df['disused'].isin(('yes',))\n",
    "    ]\n",
    "\n",
    "    return df[['osm_id', 'osm_way_id', 'name', 'railway', 'geometry']]"
   ]
  },
  {
   "cell_type": "code",
   "execution_count": null,
   "metadata": {},
   "outputs": [],
   "source": [
    "def polys_to_points(df):\n",
    "    df.geometry = df.geometry.centroid\n",
    "    return df"
   ]
  },
  {
   "cell_type": "code",
   "execution_count": null,
   "metadata": {},
   "outputs": [],
   "source": [
    "for fname in files:\n",
    "    print(f\"\\n{fname}\")\n",
    "    layers = fiona.listlayers(fname)\n",
    "    out_fname = fname.replace('.gpkg', '_filtered.gpkg')\n",
    "    try:\n",
    "        os.remove(out_fname)\n",
    "    except FileNotFoundError:\n",
    "        pass\n",
    "    \n",
    "    if 'points' in layers:\n",
    "        df = process_points(gpd.read_file(fname, layer='points'))\n",
    "        if not df.empty:\n",
    "            df.to_file(out_fname, layer='points', driver=\"GPKG\")\n",
    "    \n",
    "    if 'lines' in layers:\n",
    "        df = process_lines(gpd.read_file(fname, layer='lines'))\n",
    "        if not df.empty:\n",
    "            df.to_file(out_fname, layer='lines', driver=\"GPKG\")\n",
    "        \n",
    "    if 'multipolygons' in layers:\n",
    "        df = process_polygons(gpd.read_file(fname, layer='multipolygons'))\n",
    "        if not df.empty:\n",
    "            df.to_file(out_fname, layer='multipolygons', driver=\"GPKG\")\n",
    "            \n",
    "            df = polys_to_points(df)\n",
    "            df.to_file(out_fname, layer='centroids', driver=\"GPKG\")"
   ]
  }
 ],
 "metadata": {
  "kernelspec": {
   "display_name": "Python 3",
   "language": "python",
   "name": "python3"
  },
  "language_info": {
   "codemirror_mode": {
    "name": "ipython",
    "version": 3
   },
   "file_extension": ".py",
   "mimetype": "text/x-python",
   "name": "python",
   "nbconvert_exporter": "python",
   "pygments_lexer": "ipython3",
   "version": "3.7.6"
  }
 },
 "nbformat": 4,
 "nbformat_minor": 4
}
