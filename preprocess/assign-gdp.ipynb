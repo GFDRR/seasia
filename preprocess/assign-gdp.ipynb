{
 "cells": [
  {
   "cell_type": "markdown",
   "id": "specific-tennis",
   "metadata": {},
   "source": [
    "# Assign GDP to assets\n",
    "\n",
    "Gridded GDP estimation\n",
    "- combine GDP per capita and population to estimate regional GDP grid\n",
    "\n",
    "Geographical connections to nodes\n",
    "- find connected components in power network\n",
    "- per component, share \"targets\" GDP estimate between generators in proportion to capacity\n",
    "- assign GDP to links according to max flow from generators to targets"
   ]
  },
  {
   "cell_type": "code",
   "execution_count": null,
   "id": "sporting-chrome",
   "metadata": {},
   "outputs": [],
   "source": [
    "import os\n",
    "from collections import defaultdict\n",
    "from glob import glob \n",
    "\n",
    "import geopandas as gpd\n",
    "import networkx as nx\n",
    "import pandas as pd\n",
    "from tqdm.notebook import tqdm"
   ]
  },
  {
   "cell_type": "code",
   "execution_count": null,
   "id": "cleared-gateway",
   "metadata": {},
   "outputs": [],
   "source": [
    "fnames = glob(\"../data/electricity/*network.gpkg\")"
   ]
  },
  {
   "cell_type": "code",
   "execution_count": null,
   "id": "rapid-double",
   "metadata": {},
   "outputs": [],
   "source": [
    "def read_network(fname):\n",
    "    # read edges\n",
    "    edges = gpd.read_file(fname, layer='edges')\n",
    "    \n",
    "    # create unique link id from from/to node ids\n",
    "    edges['link'] = edges.apply(lambda e: \"__\".join(sorted([e.from_id, e.to_id])), axis=1)\n",
    "    \n",
    "    # read nodes\n",
    "    nodes = gpd.read_file(fname, layer='nodes')\n",
    "    \n",
    "    # add gdp to target nodes\n",
    "    targets = gpd.read_file(fname.replace('network','targets'))\n",
    "    nodes = nodes.merge(targets[['id', 'gdp']], on='id', how='left')\n",
    "    \n",
    "    # add capacity to plant/generation/source nodes\n",
    "    plants = gpd.read_file(fname.replace('network','plants'))\n",
    "    nodes = nodes.merge(plants[['id', 'capacity_mw']], on='id', how='left')\n",
    "    \n",
    "    return nodes, edges"
   ]
  },
  {
   "cell_type": "code",
   "execution_count": null,
   "id": "legislative-dictionary",
   "metadata": {},
   "outputs": [],
   "source": [
    "def create_graph(nodes, edges):\n",
    "    G = nx.Graph()\n",
    "    G.add_nodes_from(\n",
    "        (\n",
    "            n.id, \n",
    "            {\"id\": n.id, \"type\": n.type, \"gdp\": n.gdp, \"capacity_mw\": n.capacity_mw}\n",
    "        )\n",
    "        for n in nodes.itertuples()\n",
    "    )\n",
    "    G.add_edges_from(\n",
    "        (\n",
    "            e.from_id, \n",
    "            e.to_id, \n",
    "            {\"id\": e.id, \"length_m\": e.length_m}\n",
    "        ) \n",
    "        for e in edges.itertuples()\n",
    "    )\n",
    "    return G"
   ]
  },
  {
   "cell_type": "code",
   "execution_count": null,
   "id": "abstract-advice",
   "metadata": {},
   "outputs": [],
   "source": [
    "def assign_node_edge_gdp(G):\n",
    "    components = list(nx.connected_components(G))\n",
    "    node_gdps = []\n",
    "    edge_gdps = []\n",
    "    \n",
    "    for component in tqdm(components):\n",
    "        c_node_gdp, c_edge_gdp = assign_component_gdp(G, component)\n",
    "        if len(c_node_gdp):\n",
    "            node_gdps.append(c_node_gdp)\n",
    "        if len(c_edge_gdp):\n",
    "            edge_gdps.append(c_edge_gdp)\n",
    "        \n",
    "    node_gdp = pd.concat(node_gdps)\n",
    "    edge_gdp = pd.concat(edge_gdps)\n",
    "    \n",
    "    return node_gdp, edge_gdp"
   ]
  },
  {
   "cell_type": "code",
   "execution_count": null,
   "id": "possible-seminar",
   "metadata": {},
   "outputs": [],
   "source": [
    "def edge_link_ids_from_nodes(G, route_nodes):\n",
    "    next_nodes = iter(route_nodes)\n",
    "    next(next_nodes)\n",
    "    return [\n",
    "        \"__\".join(sorted([u, v]))\n",
    "        for u, v in zip(route_nodes, next_nodes)\n",
    "    ]"
   ]
  },
  {
   "cell_type": "code",
   "execution_count": null,
   "id": "accepting-fluid",
   "metadata": {},
   "outputs": [],
   "source": [
    "def assign_component_gdp(G, component):\n",
    "    # create connected component subgraph\n",
    "    c = G.subgraph(component).copy()\n",
    "    # nodes dataframe\n",
    "    c_nodes = pd.DataFrame(n for _, n in c.nodes(data=True))\n",
    "    \n",
    "    # component total gdp and capacity\n",
    "    c_gdp = c_nodes.gdp.sum()\n",
    "    c_cap = c_nodes.capacity_mw.sum()\n",
    "    \n",
    "    # assign GDP to nodes in proportion to capacity\n",
    "    def assign_source_gdp(n):\n",
    "        if n.type == 'source':\n",
    "            return n.capacity_mw * c_gdp / c_cap\n",
    "        return n.gdp\n",
    "    \n",
    "    c_nodes['gdp'] = c_nodes.apply(assign_source_gdp, axis=1)\n",
    "    \n",
    "    # assign GDP \"flow\" along shortest path from source to target, sharing source\n",
    "    # gdp proportionally between targets\n",
    "    edge_links = defaultdict(int)\n",
    "    sources = c_nodes[c_nodes.type == 'source'].copy()\n",
    "    targets = c_nodes[c_nodes.type == 'target'].copy()\n",
    "    if len(sources) and len(targets):\n",
    "        for u in tqdm(sources.itertuples(), total=len(sources)):\n",
    "            paths = nx.shortest_path(c, source=u.id)\n",
    "            for v in targets.itertuples():\n",
    "                path = paths[v.id]\n",
    "                path_gdp = u.gdp * (v.gdp / c_gdp)\n",
    "                for link_id in edge_link_ids_from_nodes(c, path):\n",
    "                    edge_links[link_id] += path_gdp\n",
    "\n",
    "    c_edges = pd.DataFrame({'link': k, 'gdp': v} for k, v in edge_links.items())\n",
    "\n",
    "    return c_nodes[['id', 'gdp']], c_edges"
   ]
  },
  {
   "cell_type": "code",
   "execution_count": null,
   "id": "aquatic-acoustic",
   "metadata": {},
   "outputs": [],
   "source": [
    "for fname in fnames:\n",
    "    print(fname)\n",
    "    \n",
    "    nodes, edges = read_network(fname)\n",
    "    \n",
    "    G = create_graph(nodes, edges)\n",
    "    \n",
    "    node_gdp, edge_gdp = assign_node_edge_gdp(G)\n",
    "    \n",
    "    out_fname = fname.replace('network', 'network_with_gdp')\n",
    "    \n",
    "    nodes = nodes.drop('gdp', axis=1).merge(node_gdp, on='id')\n",
    "    nodes.to_file(\n",
    "        out_fname,\n",
    "        layer='nodes',\n",
    "        driver='GPKG')\n",
    "    \n",
    "    edges = edges.merge(edge_gdp, on='link')\n",
    "    edges.to_file(\n",
    "        fname.replace('network', 'network_with_gdp'),\n",
    "        layer='edges',\n",
    "        driver='GPKG')"
   ]
  }
 ],
 "metadata": {
  "kernelspec": {
   "display_name": "Python 3",
   "language": "python",
   "name": "python3"
  },
  "language_info": {
   "codemirror_mode": {
    "name": "ipython",
    "version": 3
   },
   "file_extension": ".py",
   "mimetype": "text/x-python",
   "name": "python",
   "nbconvert_exporter": "python",
   "pygments_lexer": "ipython3",
   "version": "3.7.10"
  }
 },
 "nbformat": 4,
 "nbformat_minor": 5
}
